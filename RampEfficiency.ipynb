{
 "cells": [
  {
   "cell_type": "code",
   "execution_count": null,
   "id": "5d44f7cc-cd25-4242-b7fa-aea7884adb18",
   "metadata": {},
   "outputs": [],
   "source": [
    "import numpy as np\n",
    "import matplotlib.pyplot as plt\n",
    "\n",
    "def plot_efficiency(\n",
    "  maximum_height,\n",
    "  constant_friction,\n",
    "):\n",
    "\n",
    "  def efficiency(x):\n",
    "    return 100. * (1. - constant_friction / (constant_friction + x))\n",
    "  \n",
    "  x = np.linspace(0., maximum_height, 100)\n",
    "  y = efficiency(x)\n",
    "  \n",
    "  plt.plot(x, y, label='')\n",
    "  \n",
    "  plt.xlim(0., maximum_height)\n",
    "  plt.ylim(0., None)\n",
    "  \n",
    "  plt.xlabel('Height [cm]')\n",
    "  plt.ylabel('Efficiency [%]')\n",
    "  \n",
    "  plt.grid(True)\n",
    "  \n",
    "  plt.show()"
   ]
  },
  {
   "cell_type": "code",
   "execution_count": null,
   "id": "ddf04117-805c-4efe-b07f-35168d423ee2",
   "metadata": {},
   "outputs": [],
   "source": [
    "plot_efficiency(\n",
    "  maximum_height = 10, # [cm]\n",
    "  constant_friction = 0.5, # [Newton]\n",
    ")"
   ]
  }
 ],
 "metadata": {
  "kernelspec": {
   "display_name": "Python 3 (ipykernel)",
   "language": "python",
   "name": "python3"
  },
  "language_info": {
   "codemirror_mode": {
    "name": "ipython",
    "version": 3
   },
   "file_extension": ".py",
   "mimetype": "text/x-python",
   "name": "python",
   "nbconvert_exporter": "python",
   "pygments_lexer": "ipython3",
   "version": "3.10.16"
  }
 },
 "nbformat": 4,
 "nbformat_minor": 5
}
