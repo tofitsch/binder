{
 "cells": [
  {
   "cell_type": "code",
   "execution_count": 1,
   "metadata": {
    "id": "JBAYR4IEVvRW"
   },
   "outputs": [],
   "source": [
    "import matplotlib.pyplot as plt\n",
    "from matplotlib.sankey import Sankey\n",
    "\n",
    "def plot_sankey(\n",
    "  e_input = None,\n",
    "  e_useful = None,\n",
    "  e_wasted = None,\n",
    "  efficiency = None,\n",
    "):\n",
    "\n",
    "  n_provided_values = sum([1 for val in [e_useful, e_input, e_wasted, efficiency] if val is not None])\n",
    "\n",
    "  assert n_provided_values == 2, \"Error: Please provide exactly two of the four values.\"\n",
    "\n",
    "  if e_useful is not None and e_input is not None:\n",
    "    assert e_input > 0., \"Error: e_input cannot be zero.\"\n",
    "    e_wasted = e_input - e_useful\n",
    "    efficiency = e_useful / e_input\n",
    "\n",
    "  elif e_useful is not None and e_wasted is not None:\n",
    "    e_input = e_useful + e_wasted\n",
    "    assert e_input > 0., \"Error: e_input cannot be zero.\"\n",
    "    efficiency = e_useful / e_input\n",
    "\n",
    "  elif e_useful is not None and efficiency is not None:\n",
    "    assert efficiency > 0., \"Error: efficiency cannot be zero when e_useful is non-zero.\"\n",
    "    e_input = e_useful / efficiency\n",
    "    e_wasted = e_input - e_useful\n",
    "\n",
    "  elif e_input is not None and efficiency is not None:\n",
    "    e_useful = efficiency * e_input\n",
    "    e_wasted = e_input - e_useful\n",
    "\n",
    "  elif e_input is not None and e_wasted is not None:\n",
    "    assert e_input > 0., \"Error: e_input cannot be zero.\"\n",
    "    e_useful = e_input - e_wasted\n",
    "    efficiency = e_useful / e_input\n",
    "\n",
    "  elif e_wasted is not None and efficiency is not None:\n",
    "    assert efficiency < 1., \"Error: e_input cannot be 1 when e_wasted is non-zero.\"\n",
    "    e_input = e_wasted / (1 - efficiency)\n",
    "    e_useful = e_input - e_wasted\n",
    "\n",
    "  assert(e_useful <= e_input)\n",
    "  assert(e_wasted <= e_input)\n",
    "  assert(efficiency >= 0.)\n",
    "  assert(efficiency <= 1.)\n",
    " \n",
    "  fig, ax = plt.subplots()\n",
    "\n",
    "  ax.axis('off')\n",
    "\n",
    "  Sankey(\n",
    "    ax = ax,\n",
    "    unit = ' J',\n",
    "    scale = .4 / e_input,\n",
    "    labels = ['Input', 'Useful', 'Wasted'],\n",
    "    flows = [e_input, -e_useful, -e_wasted],\n",
    "    orientations = [0, 0, -1],\n",
    "    pathlengths=[.4, .3, .3],\n",
    "    patchlabel=f' efficiency {efficiency:.2f}'\n",
    "  ).finish()\n",
    "\n",
    "  plt.show()"
   ]
  },
  {
   "cell_type": "code",
   "execution_count": 2,
   "metadata": {
    "colab": {
     "base_uri": "https://localhost:8080/",
     "height": 423
    },
    "id": "uQE9wUL-n5_8",
    "outputId": "7acd1811-fb4c-4805-b319-00c57691a78e"
   },
   "outputs": [
    {
     "data": {
      "image/png": "[encoded data removed]",
      "text/plain": [
       "<Figure size 640x480 with 1 Axes>"
      ]
     },
     "metadata": {},
     "output_type": "display_data"
    }
   ],
   "source": [
    "# Set 2 of the 4 values here and set the others to `None`\n",
    "\n",
    "plot_sankey(\n",
    "  e_input = 200,\n",
    "  e_useful = 100,\n",
    "  e_wasted = None,\n",
    "  efficiency = None,\n",
    ")"
   ]
  },
  {
   "cell_type": "code",
   "execution_count": null,
   "metadata": {},
   "outputs": [],
   "source": []
  }
 ],
 "metadata": {
  "colab": {
   "provenance": []
  },
  "kernelspec": {
   "display_name": "Python 3 (ipykernel)",
   "language": "python",
   "name": "python3"
  },
  "language_info": {
   "codemirror_mode": {
    "name": "ipython",
    "version": 3
   },
   "file_extension": ".py",
   "mimetype": "text/x-python",
   "name": "python",
   "nbconvert_exporter": "python",
   "pygments_lexer": "ipython3",
   "version": "3.10.16"
  }
 },
 "nbformat": 4,
 "nbformat_minor": 4
}
